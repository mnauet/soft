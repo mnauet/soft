{
 "cells": [
  {
   "cell_type": "code",
   "execution_count": 1,
   "metadata": {},
   "outputs": [
    {
     "name": "stdout",
     "output_type": "stream",
     "text": [
      "enter a number to get square root\n",
      "9\n",
      "square root is:  5.0\n",
      "square root is:  3.4\n",
      "square root is:  3.023529411764706\n",
      "square root is:  3.00009155413138\n",
      "square root is:  3.000000001396984\n"
     ]
    }
   ],
   "source": [
    "print ('enter a number to get square root')\n",
    "val = eval(input())\n",
    "root = 1.0\n",
    "diff = root * root - val\n",
    "while diff > 0.00001 or diff <= -0.0001:\n",
    "    root = (root + val/root)/2\n",
    "    print ('square root is: ', root)\n",
    "    diff = root * root -val "
   ]
  },
  {
   "cell_type": "code",
   "execution_count": 2,
   "metadata": {},
   "outputs": [
    {
     "name": "stdout",
     "output_type": "stream",
     "text": [
      "enter height\n",
      "5\n",
      "     *\n",
      "    ***\n",
      "   *****\n",
      "  *******\n",
      " *********\n"
     ]
    }
   ],
   "source": [
    "\n",
    "print('enter height')\n",
    "height = eval(input ())\n",
    "row = 0\n",
    "while row < height :\n",
    "    count = 0\n",
    "    while count < (height -row):\n",
    "        print(end=' ') \n",
    "        count +=1\n",
    "    count = 0\n",
    "    while count < 2 * row +1:\n",
    "        print(end='*')\n",
    "        count +=1\n",
    "    print()\n",
    "    row += 1   \n",
    "    "
   ]
  },
  {
   "cell_type": "code",
   "execution_count": 5,
   "metadata": {},
   "outputs": [
    {
     "name": "stdout",
     "output_type": "stream",
     "text": [
      "enter height\n",
      "5\n",
      "     *\n",
      "    ***\n",
      "   *****\n",
      "  *******\n",
      " *********\n"
     ]
    }
   ],
   "source": [
    "print('enter height')\n",
    "height = eval(input ())\n",
    "for row in range(height):\n",
    "    for count in range(0, (height -row)):\n",
    "        print(end=' ') \n",
    "    for count in range(0, ( 2 * row +1)):\n",
    "        print(end='*')\n",
    "    print()\n",
    "    row += 1  "
   ]
  },
  {
   "cell_type": "code",
   "execution_count": null,
   "metadata": {},
   "outputs": [],
   "source": [
    "max_value = eval(input())\n",
    "value = 2\n",
    "while value <= max_value :\n",
    "    is_prime = True\n",
    "    trial_start = 2\n",
    "    while trial_start < value:\n",
    "        if (value % trial_start == 0) :\n",
    "            is_prime = False\n",
    "            break\n",
    "        trial_start +=1\n",
    "    if is_prime :\n",
    "        print (value , end=' ')\n",
    "    value +=1\n",
    "    \n"
   ]
  },
  {
   "cell_type": "code",
   "execution_count": null,
   "metadata": {},
   "outputs": [],
   "source": []
  },
  {
   "cell_type": "code",
   "execution_count": null,
   "metadata": {},
   "outputs": [],
   "source": []
  }
 ],
 "metadata": {
  "kernelspec": {
   "display_name": "Python 3",
   "language": "python",
   "name": "python3"
  },
  "language_info": {
   "codemirror_mode": {
    "name": "ipython",
    "version": 3
   },
   "file_extension": ".py",
   "mimetype": "text/x-python",
   "name": "python",
   "nbconvert_exporter": "python",
   "pygments_lexer": "ipython3",
   "version": "3.6.7"
  }
 },
 "nbformat": 4,
 "nbformat_minor": 2
}
